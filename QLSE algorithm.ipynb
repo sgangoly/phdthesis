{
 "cells": [
  {
   "cell_type": "markdown",
   "metadata": {},
   "source": [
    "# Illustration of the Quantum Linear Systems Algorithm"
   ]
  },
  {
   "cell_type": "markdown",
   "metadata": {},
   "source": [
    "#### This code is an illustration of how the Quantum Linear Systems of Equations Algorithm [Harrow, Hassidim, Lloyd 2009 PRL] stepwise manipulates the quantum state of a 1+tau+n - qubit system. \n",
    "Note: The implementation is NOT a classical simulation of the elementary quantum operations themselves, but is supposed to have a didactical purpose"
   ]
  },
  {
   "cell_type": "code",
   "execution_count": 1,
   "metadata": {
    "collapsed": true
   },
   "outputs": [],
   "source": [
    "import sys\n",
    "import numpy as np\n",
    "import math as math\n",
    "from tabulate import tabulate # for nice printing"
   ]
  },
  {
   "cell_type": "markdown",
   "metadata": {},
   "source": [
    "#### The class qustate defines the quantum state, how to manipulate it and how to print it"
   ]
  },
  {
   "cell_type": "code",
   "execution_count": 3,
   "metadata": {
    "collapsed": false
   },
   "outputs": [],
   "source": [
    "class QuState:\n",
    "    \n",
    "    def __init__(self, tau, n): # create an initial quantum state in which all qubits are in 0\n",
    "        self.qu_state = [[1, ''.zfill( 1+tau+n )]]\n",
    "        self.n = n # number of qubits to represent b and x\n",
    "        self.tau = tau # number of qubits for the eigenvalue register\n",
    "        \n",
    "    # Query if a basis state 'exists' (i.e., the event has finite probability)   \n",
    "    def contains(self, bstate): \n",
    "        if bstate in self.get_bstate_list():\n",
    "            return True\n",
    "        else:\n",
    "            return False\n",
    "    \n",
    "    def create(self, amplitude, bstate): # Create a basis state (i.e., a previously zero amplitude gets a nonzero value)\n",
    "        if self.contains(bstate):\n",
    "            self.overwrite(amplitude, bstate)\n",
    "        else:\n",
    "            self.qu_state.append([amplitude, bstate])\n",
    "    \n",
    "    def delete(self, bstate): # Set a previously nonzero amplitude to zero\n",
    "        self.qu_state.remove( self.qu_state[self.get_bstate_list().index(bstate)] )\n",
    "              \n",
    "    def overwrite(self, amplitude, bstate): # Change the value of a nonzero amplitude \n",
    "        self.qu_state[self.get_bstate_list().index(bstate)][0] = amplitude\n",
    "        \n",
    "    def addto(self, summand, bstate): # Add something to the value of a nonzero amplitude \n",
    "        if self.contains(bstate):\n",
    "            self.qu_state[self.get_bstate_list().index(bstate)][0] += summand\n",
    "        else:\n",
    "            self.create(summand, bstate) \n",
    "            \n",
    "    def multiplyto(self, factor, bstate): # Multiply something to the value of a nonzero amplitude \n",
    "        if self.contains(bstate):\n",
    "            self.qu_state[self.get_bstate_list().index(bstate)][0] *= factor\n",
    "        else:\n",
    "            self.create(0, bstate)         \n",
    "            \n",
    "    def get_amplitude(self, bstate): #Return the amplitude associated with a given basis state\n",
    "        if self.contains(bstate):\n",
    "            return self.qu_state[self.get_bstate_list().index(bstate)][0]\n",
    "        else: \n",
    "            print (\"Error in 'get_amplitude': no such state found!\")\n",
    "            return -99\n",
    "\n",
    "    def sort_qu_state(self): # Sort the list according to basis states for printing\n",
    "        self.qu_state = sorted(self.qu_state, key=lambda qu_state: qu_state[1])\n",
    "            \n",
    "    def print_me(self, step): # Print current quantum state: First column is the index of the amplitude in the 2^{(1+tau+n)} dimensional amplitude vector.\n",
    "        # The indices in the table are all entries with a nonzero amplitude. \n",
    "        self.sort_qu_state() \n",
    "        printable_qu_state = [ [int(qs[1],2), qs[0], qs[1][0] + ' ' + qs[1][1:self.tau+1] + ' ' + qs[1][self.tau+1: self.n+self.tau +1]] for qs in self.qu_state] \n",
    "        if (step != 0):\n",
    "            print \n",
    "            print (\"After STEP \", step,\":\")\n",
    "            print\n",
    "        print(tabulate(printable_qu_state, headers=[\"Index\",\"Amplitude\",\"Basis State\"])  )    \n",
    "              \n",
    "    def get_amplitude_list(self):\n",
    "        return [qs[0] for qs in self.qu_state]\n",
    "    \n",
    "    def get_bstate_list(self):\n",
    "        return [qs[1] for qs in self.qu_state]\n",
    "\n",
    "    def renormalise(self): # Renormalise the quantum state so that \\sum_i |amplitude_i|^2 = 1 (which should always be the case) \n",
    "        av = self.get_amplitude_list()\n",
    "        nf = float(np.sqrt(np.dot(av,av)))\n",
    "        for qs in self.qu_state:\n",
    "            qs[0] = qs[0]/nf \n",
    "        return nf"
   ]
  },
  {
   "cell_type": "markdown",
   "metadata": {},
   "source": [
    "## More functions needed"
   ]
  },
  {
   "cell_type": "markdown",
   "metadata": {},
   "source": [
    "#### Create the right type of positive definite square matrices as inputs "
   ]
  },
  {
   "cell_type": "code",
   "execution_count": 4,
   "metadata": {
    "collapsed": false
   },
   "outputs": [],
   "source": [
    "def preprocess(mat, vec):\n",
    "\n",
    "    if (mat.shape[0] != mat.shape[1]) or (mat.shape[0] != len(vec)):\n",
    "        print(\"PLEASE MAKE SURE A IS SQUARE AND USE MATCHING INPUT DIMENSIONS FOR A AND b!\")\n",
    "        sys.exit(1)\n",
    "        \n",
    "    if (not isPositiveDefinite(mat)): \n",
    "        print(\"PLEASE ENTER A POSITIVE DEFINITE MATRIX\")\n",
    "        sys.exit(1)\n",
    "        \n",
    "    ### If b has not dimension 2**n for an integer n, define larger LSE --> Read the solution from the first N entries of x\n",
    "    nn = math.log(len(vec),2)\n",
    "    if (nn%1 != 0):\n",
    "        vec = np.array([vec[i] if i<len(vec) else 0  for i in range(int(nn+1)**2)] )\n",
    "        mat = np.array([[ mat[i,j] if (i<mat.shape[0] and j<mat.shape[0]) else 0  for i in range(int(nn+1)**2)] for j in range(int(nn+1)**2)])\n",
    "       \n",
    "\n",
    "    ### If b is not Hermitian, define larger LSE --> Read the solution from the first N entries of x\n",
    "    if (not isHermitian(mat)):\n",
    "        zero_block = np.array([[0 for i in range(len(mat))] for j in range(len(mat))])\n",
    "        mat = np.array(np.bmat([[mat, zero_block] , [zero_block, mat]]))\n",
    "        vec = np.hstack([vec, zero_block[0]])\n",
    "        \n",
    "    eigenvals, eigenvecs = np.linalg.eig(mat)\n",
    "  \n",
    "    ### Rescale A,b so that A's eigenvalues are in [0,1] --> Should not affect the solution\n",
    "    if (eigenvals.max() > 1):\n",
    "        mat = np.array(mat)/eigenvals.max()\n",
    "        vec = np.array(vec)/eigenvals.max()\n",
    "        eigenvals, eigenvecs = np.linalg.eig(mat)\n",
    "\n",
    "    ### Normalise b and remember normalisation factor\n",
    "    if (not isNormalised(vec)):\n",
    "        nf = float(np.sqrt(np.dot(vec,vec)))\n",
    "        vec = vec/nf\n",
    "    else:\n",
    "        nf = 1\n",
    "\n",
    "    ### Check once more if new matrix is positive definite\n",
    "    if (not isPositiveDefinite(mat)): \n",
    "        print(\"PREPROCESSING PRODUCED A NON-POSITIVE DEFINITE MATRIX. PLEASE TRY A DIFFERENT INPUT.\")\n",
    "        sys.exit(1)\n",
    "\n",
    "    return mat, vec, nf"
   ]
  },
  {
   "cell_type": "markdown",
   "metadata": {},
   "source": [
    "#### And more functions..."
   ]
  },
  {
   "cell_type": "code",
   "execution_count": 5,
   "metadata": {
    "collapsed": true
   },
   "outputs": [],
   "source": [
    "def isHermitian(matrix):\n",
    "    if (matrix ==  np.conjugate(np.transpose(matrix))).all():\n",
    "        return True\n",
    "    else:\n",
    "        return False\n",
    "        \n",
    "def isNormalised(vector):\n",
    "    if (np.dot(vector,np.conjugate(vector)) == 1.):\n",
    "        return True\n",
    "    else:\n",
    "        return False   \n",
    "        \n",
    "def isPositiveDefinite(mat):\n",
    "    eigenvals, eigenvecs = np.linalg.eig(mat)\n",
    "    if any(item <= 0 for item in eigenvals):\n",
    "        return False\n",
    "    else:\n",
    "        return True\n",
    "\n",
    "def index_to_bstate(index, number_of_bits): # Convert integer to binary\n",
    "    return format(index, '0'+str(number_of_bits)+'b')\n",
    "    \n",
    "def bstate_to_index(state): # Convert binary to integer\n",
    "    return int(state, 2)\n",
    "\n",
    "def bin_to_evl(bin_evl): # Convert a binary to a real number [0,1] \n",
    "    return sum([int(bin_evl[i])*(1/2.**(i+1)) for i in range(len(bin_evl))])\n",
    "    \n",
    "    \n",
    "def evl_to_bin(evl, length): # Convert a real number in [0,1] to a binary (this is how the eigenvalues are encoded)\n",
    "    temp = evl\n",
    "    bits = ''\n",
    "    for i in range(length):\n",
    "        if (temp - (1/2.**(i+1)) >= 0):\n",
    "            temp = temp - (1/2.**(i+1))\n",
    "            bits += '1'\n",
    "        else: \n",
    "            bits += '0'\n",
    "    return bits"
   ]
  },
  {
   "cell_type": "markdown",
   "metadata": {},
   "source": [
    "## Now the algorithm starts"
   ]
  },
  {
   "cell_type": "markdown",
   "metadata": {},
   "source": [
    "### Goal: Solve Ax = b where A is a NxN matrix and b a vector of dimension N\n",
    "\n",
    " The quantum algorithm requires A to be Hermitian, have positive eigenvalues in ]0,1], b to be unit-length, \n",
    " and N = 2^n for an integer n (because b is represented by the 2^n amplitudes of n qubits)\n",
    " We can redefine Ax = b so that everything fits and postprocess the solution accordingly\n",
    " !!!!(NB: Only implemented for real eigenvalues or positive definite matrices for now.) !!!!\n",
    " \n",
    " --> Check the HHl paper for details."
   ]
  },
  {
   "cell_type": "code",
   "execution_count": 7,
   "metadata": {
    "collapsed": false
   },
   "outputs": [
    {
     "name": "stdout",
     "output_type": "stream",
     "text": [
      "\n",
      " INPUTS (after preprocessing): \n",
      "---  ------------------------------------------------------------------------------------\n",
      "tau  10\n",
      "A    [[0.6666666666666666, 0.3333333333333333], [0.3333333333333333, 0.6666666666666666]]\n",
      "b    [ 0.275  0.962]\n",
      "n    1\n",
      "---  ------------------------------------------------------------------------------------\n",
      "\n",
      " SPECTRAL PROPERTIES OF A: \n",
      "------------------------------------  -------------------------------------------------------------------------------------\n",
      "Eigenvalues of A                      [ 1.     0.333]\n",
      "Eigenvalues in binary representation  ['1111111111', '0101010101']\n",
      "Error of binary representation        [0.0009765625, 0.00032552083333331483]\n",
      "Eigenvectors                          [[0.7071067811865475, 0.7071067811865475], [-0.7071067811865475, 0.7071067811865475]]\n",
      "------------------------------------  -------------------------------------------------------------------------------------\n"
     ]
    }
   ],
   "source": [
    "\n",
    "A_init = np.array([[2., 1.],[1.,2.]])  \n",
    "b_init = np.array([0.2 , 0.7]) #\n",
    "tau = 10 # Choose the number of qubits (precision) to represent eigenvalues in the quantum algo\n",
    "\n",
    "# Produce a Hermitian matrix A of dimension 2^n x 2^n (n integer) with eigenvalues in ]0,1]\n",
    "# and a unit-length vector b of dimension 2^n out of the original inputs A and b \n",
    "A,b, nf1 = preprocess(A_init, b_init)\n",
    "\n",
    "# Some stuff needed for the classical simulation which the quantum system does generically :\n",
    "eigenvals, eigenvecs = np.linalg.eig(A)  # The eigendecomposition of A\n",
    "eigenvecs = np.transpose(eigenvecs)  # Needed because numpy returns the eigenvectors as columns of eigenvecs\n",
    "bin_eigenvals = [evl_to_bin(evl, tau) for evl in eigenvals] # A's eigenvalues in binary representation\n",
    "n = int(math.log(len(b),2)) # Calculate number of qubits needed to represent b \n",
    "C = eigenvals.min()/2. # Define a number C that is smaller than the smallest eigenvalue (which has to be estimated somehow) \n",
    "\n",
    "\n",
    "# Some printing\n",
    "np.set_printoptions(precision=3)\n",
    "print(\"\\n INPUTS (after preprocessing): \")\n",
    "print( tabulate([['tau' , tau],  ['A',  np.ndarray.tolist(A)], ['b', b], ['n' , n]]))\n",
    "print( \"\\n SPECTRAL PROPERTIES OF A: \")\n",
    "print( tabulate([['Eigenvalues of A',eigenvals] ,\n",
    "['Eigenvalues in binary representation ' ,bin_eigenvals],['Error of binary representation' , [abs(bin_to_evl(bin_eigenvals[i])-eigenvals[i]) for i in range(len(bin_eigenvals))]], \n",
    "['Eigenvectors ', np.ndarray.tolist(eigenvecs) ]]))"
   ]
  },
  {
   "cell_type": "markdown",
   "metadata": {},
   "source": [
    "### STEP 1: STATE PREPARATION  \n",
    "[HHL: page 2, column 2, center]"
   ]
  },
  {
   "cell_type": "code",
   "execution_count": 8,
   "metadata": {
    "collapsed": false
   },
   "outputs": [
    {
     "name": "stdout",
     "output_type": "stream",
     "text": [
      "After STEP  1 :\n",
      "  Index    Amplitude  Basis State\n",
      "-------  -----------  --------------\n",
      "      0     0.274721  0 0000000000 0\n",
      "      1     0.961524  0 0000000000 1\n"
     ]
    }
   ],
   "source": [
    "\n",
    "quantum_state = QuState(tau, n) # Create a quantum state of 1+tau+n qubit initially all in state zero \n",
    "\n",
    "for i in range(len(b)): # create basis states  '0 0...0 0...0' to '0 0...0 1...1' with amplitudes b_1 ... b_N\n",
    "    quantum_state.create(b[i], ''.zfill( 1+tau ) + index_to_bstate(i, n)) \n",
    "\n",
    "quantum_state.print_me(1) # Print quantum state after Step 1\n"
   ]
  },
  {
   "cell_type": "markdown",
   "metadata": {},
   "source": [
    "### STEP 2: QUANTUM SIMULATION AND QUANTUM PHASE ESTIMATION\n",
    "[HHL: page 2, column 2, bottom]\n",
    "This step reproduces the effect of a rather complex subroutine of applying an operator e^(iAt) to the state and then executing a quantum phase estimation algorithm, which is very difficult to properly display in a classical simulation. Therefore, we just update the amplitudes to how \n",
    "they look like afterwards (\\sum_j \\sum_i (u_j*b) (u_j)_i|0>|\\lambda_j>|i> ).\n",
    "\n",
    "Effectively this splits up the sums and writes every (u_j*b)(u_j)_i term into a different position of the amplitude vector \n",
    "(the position is defined by the binary representation of the j'th eigenvalue)"
   ]
  },
  {
   "cell_type": "code",
   "execution_count": 9,
   "metadata": {
    "collapsed": false
   },
   "outputs": [
    {
     "name": "stdout",
     "output_type": "stream",
     "text": [
      "After STEP  2 :\n",
      "  Index    Amplitude  Basis State\n",
      "-------  -----------  --------------\n",
      "    682    -0.343401  0 0101010101 0\n",
      "    683     0.343401  0 0101010101 1\n",
      "   2046     0.618123  0 1111111111 0\n",
      "   2047     0.618123  0 1111111111 1\n"
     ]
    }
   ],
   "source": [
    "\n",
    "# First, delete the old amplitudes (ugly implementation, I know)\n",
    "for i in range(len(b)): \n",
    "    quantum_state.delete(''.zfill( 1+tau ) + index_to_bstate(i, n))\n",
    "    \n",
    "# Write the new amplitudes after the quantum routine into the state\n",
    "for j in range(len(eigenvals)):\n",
    "    for i in range(len(b)): \n",
    "        quantum_state.addto( np.dot(eigenvecs[j],b)* eigenvecs[j][i], '0' + evl_to_bin(eigenvals[j], tau) + index_to_bstate(i, n) )\n",
    "\n",
    "quantum_state.print_me(2)\n"
   ]
  },
  {
   "cell_type": "markdown",
   "metadata": {},
   "source": [
    "### STEP 3: Conditional Rotation of Ancilla\n",
    "[HHL: page 3, column 1,  third equation]\n",
    "\n",
    " This subroutine 'splits' every term of the superposition into the 'existing' basis state (where the ancilla is 0) and otherwise identical basis state where the ancilla is 1. The proportions of this 'splitting' are conditioned on the eigenvalue-register bits (so that the amplitude of the basis state with ancilla in 1 is chosen to be the inverse eigenvalue times a normalisation factor C necessary to make sure we are in [0,1])."
   ]
  },
  {
   "cell_type": "code",
   "execution_count": 10,
   "metadata": {
    "collapsed": false
   },
   "outputs": [
    {
     "name": "stdout",
     "output_type": "stream",
     "text": [
      "After STEP  3 :\n",
      "  Index    Amplitude  Basis State\n",
      "-------  -----------  --------------\n",
      "    682    -0.297297  0 0101010101 0\n",
      "    683     0.297297  0 0101010101 1\n",
      "   2046     0.60946   0 1111111111 0\n",
      "   2047     0.60946   0 1111111111 1\n",
      "   2730    -0.171869  1 0101010101 0\n",
      "   2731     0.171869  1 0101010101 1\n",
      "   4094     0.103121  1 1111111111 0\n",
      "   4095     0.103121  1 1111111111 1\n"
     ]
    }
   ],
   "source": [
    "qu_state_copy = [qs for qs in quantum_state.qu_state] # copy to iterate\n",
    "for qs in qu_state_copy: #For all terms in the superposition\n",
    "    bstate = qs[1] # Get the basis state\n",
    "    ampl = qs[0] # Get the amplitude\n",
    "    eigval = bin_to_evl(bstate[1:tau+1]) # Get the eigenvalue encoded in the eigenvalue-register\n",
    "    quantum_state.multiplyto(np.sqrt(1 - (C**2/ eigval**2) ), bstate  ) # Change the amplitude in the original basis state\n",
    "    quantum_state.create(ampl*(C / eigval) , '1' +  bstate[1:len(bstate)]  ) # Create a state that has the first (ancilla) qubit flipped\n",
    "    \n",
    "quantum_state.print_me(3)"
   ]
  },
  {
   "cell_type": "markdown",
   "metadata": {},
   "source": [
    "### STEP 4: Uncomputing the eigenvalue-register\n",
    "[HHL: page 3, column 1,  First sentence]\n",
    "\n",
    " Reverses the Quantum Phase Estimation so that the eigenvalue-register is back to |0...0>.  Here this means to add all amplitudes of basis states where the eigenvalue register is not '0...0' to the corresponding basis state where the eigenvalue register is in '0...0'."
   ]
  },
  {
   "cell_type": "code",
   "execution_count": 11,
   "metadata": {
    "collapsed": false
   },
   "outputs": [
    {
     "name": "stdout",
     "output_type": "stream",
     "text": [
      "After STEP  4 :\n",
      "  Index    Amplitude  Basis State\n",
      "-------  -----------  --------------\n",
      "      0    0.312163   0 0000000000 0\n",
      "      1    0.906757   0 0000000000 1\n",
      "   2048   -0.0687474  1 0000000000 0\n",
      "   2049    0.27499    1 0000000000 1\n"
     ]
    }
   ],
   "source": [
    "qu_state_copy = [qs for qs in quantum_state.qu_state] # copy to iterate\n",
    "for qs in qu_state_copy:\n",
    "    bstate = qs[1]\n",
    "    ampl = qs[0]\n",
    "    quantum_state.addto(ampl , bstate[0] + ''.zfill(tau) + bstate[ tau+1 : len(bstate)])\n",
    "        \n",
    "qu_state_copy = [qs for qs in quantum_state.qu_state] # copy to iterate\n",
    "for qs in qu_state_copy:\n",
    "    if qs[1][1:tau+1] != ''.zfill(tau):\n",
    "        quantum_state.delete(qs[1]) \n",
    "quantum_state.renormalise()\n",
    "\n",
    "quantum_state.print_me(4)"
   ]
  },
  {
   "cell_type": "markdown",
   "metadata": {},
   "source": [
    "### STEP 5: Conditional measurement of ancilla - found in 1 with certainty\n",
    "[HHL: page 3, column 1,  fourth equation]\n",
    "\n",
    " Measures the first qubit and repeats the entire quantum routine until we found it in state '1' (which of course updates our knowledge equivalent to a classical distribution). Remembers the normalisation factor which can in reality be extracted from the chance of success to measure 1."
   ]
  },
  {
   "cell_type": "code",
   "execution_count": 12,
   "metadata": {
    "collapsed": false
   },
   "outputs": [
    {
     "name": "stdout",
     "output_type": "stream",
     "text": [
      "After STEP  5 :\n",
      "  Index    Amplitude  Basis State\n",
      "-------  -----------  --------------\n",
      "   2048    -0.242536  1 0000000000 0\n",
      "   2049     0.970143  1 0000000000 1\n"
     ]
    }
   ],
   "source": [
    "qu_state_copy = [qs for qs in quantum_state.qu_state] # copy to iterate\n",
    "for qs in qu_state_copy:\n",
    "    bstate = qs[1]\n",
    "    if bstate[0] == '0': # delete all basis states in which the ancilla appears in '0'\n",
    "        quantum_state.delete(bstate)        \n",
    "normalisationFactor = quantum_state.renormalise()\n",
    "quantum_state.print_me(5)"
   ]
  },
  {
   "cell_type": "markdown",
   "metadata": {},
   "source": [
    "### STEP 6: POSTPROCESSING AND RESULT\n",
    "\n",
    "Get the final vector of amplitudes which is equal to x up to a normalisation factor.\n",
    "Note that just as with classical stochastic systems we would have to rerun the algorithm and sample to get the full amplitude vector, which is why the algorithm is intended not to output a full description of x, but  desired properties extracted in further steps (i.e. any quantum observable). "
   ]
  },
  {
   "cell_type": "code",
   "execution_count": 13,
   "metadata": {
    "collapsed": true
   },
   "outputs": [],
   "source": [
    "final_state = np.array(quantum_state.get_amplitude_list())\n",
    "# Here we extract the final state and postprocess it in order to compare it to \n",
    "# the classical result\n",
    "nf2 = np.sqrt( 1/ (sum([ np.dot(eigenvecs[j],b)**2 / eigenvals[j]**2   for j in range(len(eigenvals))] ) ) )\n",
    "result = final_state  / nf2"
   ]
  },
  {
   "cell_type": "markdown",
   "metadata": {},
   "source": [
    "## PRINT THE RESULTS"
   ]
  },
  {
   "cell_type": "code",
   "execution_count": 15,
   "metadata": {
    "collapsed": false
   },
   "outputs": [
    {
     "name": "stdout",
     "output_type": "stream",
     "text": [
      "RESULTS: --------------------------------------\n",
      "\n",
      "Result of the quantum algorithm x =  [-0.412  1.648] \n",
      "\n",
      "Classical Solution (linalg.solve): x =  [-0.412  1.648]\n",
      "Classical Solution (manual SVD): x =  [-0.41208169184606713, 1.6483267673842681]\n",
      "Classical Solution (manual SVD using the approximate Evals): x =  [-0.41248450874914233, 1.6499380349965693]\n"
     ]
    }
   ],
   "source": [
    "print\n",
    "print( \"RESULTS: --------------------------------------\\n\")\n",
    "print( \"Result of the quantum algorithm x = \", result , \"\\n\") \n",
    "print( 'Classical Solution (linalg.solve): x = ' , np.linalg.solve(A, b))\n",
    "print( 'Classical Solution (manual SVD): x = ' , [ sum([ 1/eigenvals[k] * \\\n",
    "                                                        np.dot(eigenvecs[k],b) * \\\n",
    "                                                        eigenvecs[k][i] \\\n",
    "                                                        for k in range(len(eigenvals)) ])  \\\n",
    "                                                  for i in range(len(b))]  )\n",
    "print( 'Classical Solution (manual SVD using the approximate Evals): x = ' , \\\n",
    "      [ sum([ 1/bin_to_evl(bin_eigenvals[k]) * np.dot(eigenvecs[k],b) * eigenvecs[k][i] \\\n",
    "             for k in range(len(eigenvals)) ]) \\\n",
    "       for i in range(len(b))] )\n"
   ]
  },
  {
   "cell_type": "markdown",
   "metadata": {},
   "source": [
    "NOOTE: To get the solution of the initial LSE A_init x = b_init, multiply the resulting vector by the normalisation factor nf1\n",
    "and consider only the first N entries.\n"
   ]
  },
  {
   "cell_type": "code",
   "execution_count": null,
   "metadata": {
    "collapsed": true
   },
   "outputs": [],
   "source": []
  }
 ],
 "metadata": {
  "kernelspec": {
   "display_name": "Python 2",
   "language": "python",
   "name": "python2"
  },
  "language_info": {
   "codemirror_mode": {
    "name": "ipython",
    "version": 2
   },
   "file_extension": ".py",
   "mimetype": "text/x-python",
   "name": "python",
   "nbconvert_exporter": "python",
   "pygments_lexer": "ipython2",
   "version": "2.7.12"
  }
 },
 "nbformat": 4,
 "nbformat_minor": 2
}
